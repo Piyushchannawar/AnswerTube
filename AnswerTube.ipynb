{
  "nbformat": 4,
  "nbformat_minor": 0,
  "metadata": {
    "colab": {
      "provenance": []
    },
    "kernelspec": {
      "name": "python3",
      "display_name": "Python 3"
    },
    "language_info": {
      "name": "python"
    }
  },
  "cells": [
    {
      "cell_type": "code",
      "execution_count": null,
      "metadata": {
        "id": "8Bw1DjwEs6Li"
      },
      "outputs": [],
      "source": [
        "!pip install langchain_community langchain_groq youtube_transcript_api faiss-cpu"
      ]
    },
    {
      "cell_type": "code",
      "source": [
        "from langchain.document_loaders import YoutubeLoader\n",
        "from langchain.text_splitter import RecursiveCharacterTextSplitter\n",
        "from langchain.embeddings.huggingface import HuggingFaceEmbeddings\n",
        "from langchain_groq import ChatGroq\n",
        "from langchain.vectorstores import FAISS\n",
        "from langchain.chains import LLMChain\n",
        "from langchain.prompts.chat import (\n",
        "    ChatPromptTemplate,\n",
        "    SystemMessagePromptTemplate,\n",
        "    HumanMessagePromptTemplate\n",
        ")\n",
        "import textwrap"
      ],
      "metadata": {
        "id": "m1jzosPUs98Y"
      },
      "execution_count": 2,
      "outputs": []
    },
    {
      "cell_type": "code",
      "source": [
        "embeddings = HuggingFaceEmbeddings()"
      ],
      "metadata": {
        "id": "UOfmUGOWtM5N"
      },
      "execution_count": null,
      "outputs": []
    },
    {
      "cell_type": "code",
      "source": [
        "def create_db_from_youtube_video_url(video_url):\n",
        "  loader = YoutubeLoader.from_youtube_url(video_url)\n",
        "  transcript = loader.load()\n",
        "\n",
        "  text_splitter = RecursiveCharacterTextSplitter(chunk_size = 2000, chunk_overlap = 100)\n",
        "  docs = text_splitter.split_documents(transcript)\n",
        "  db = FAISS.from_documents(docs, embeddings)\n",
        "  return db"
      ],
      "metadata": {
        "id": "69EbfRUUtZC8"
      },
      "execution_count": 4,
      "outputs": []
    },
    {
      "cell_type": "code",
      "source": [
        "def get_response_from_query(db, query, k = 4):\n",
        "  docs = db.similarity_search(query, k = k)\n",
        "  docs_page_content = \" \".join([d.page_content for d in docs])\n",
        "\n",
        "  chat = ChatGroq(api_key = \"your-api-key\", model = \"llama-3.3-70b-versatile\", temperature=0)\n",
        "\n",
        "  template = \"\"\"You are a helpful assistant that that can answer questions about youtube videos\n",
        "        based on the video's transcript: {docs}\n",
        "\n",
        "        Only use the factual information from the transcript to answer the question.\n",
        "\n",
        "        If you feel like you don't have enough information to answer the question, say \"I don't know\".\"\"\"\n",
        "\n",
        "  system_message_prompt = SystemMessagePromptTemplate.from_template(template)\n",
        "  human_template = \"Answer the following question: {question}\"\n",
        "\n",
        "  human_message_prompt = HumanMessagePromptTemplate.from_template(human_template)\n",
        "\n",
        "  chat_prompt = ChatPromptTemplate.from_messages(\n",
        "      [system_message_prompt, human_message_prompt]\n",
        "  )\n",
        "\n",
        "  chain = LLMChain(llm = chat, prompt = chat_prompt)\n",
        "\n",
        "  response = chain.run(question = query, docs = docs_page_content)\n",
        "\n",
        "  response = response.replace(\"\\n\", \"\")\n",
        "\n",
        "  return response, docs"
      ],
      "metadata": {
        "id": "dseDbFDntywM"
      },
      "execution_count": 5,
      "outputs": []
    },
    {
      "cell_type": "code",
      "source": [
        "video_url = \"https://youtu.be/fNBTtCkgg54?si=UU2_2GntrrTTLi7Z\"\n",
        "db = create_db_from_youtube_video_url(video_url)\n",
        "query = \"what is this video about?\"\n",
        "response, docs = get_response_from_query(db, query)\n",
        "print(textwrap.fill(response, width = 70))"
      ],
      "metadata": {
        "colab": {
          "base_uri": "https://localhost:8080/"
        },
        "id": "2uK-vk4eufC-",
        "outputId": "cfa530ef-ba32-47f0-de1c-a74d17c5798e"
      },
      "execution_count": 6,
      "outputs": [
        {
          "output_type": "stream",
          "name": "stderr",
          "text": [
            "<ipython-input-5-ff160b2447e2>:23: LangChainDeprecationWarning: The class `LLMChain` was deprecated in LangChain 0.1.17 and will be removed in 1.0. Use :meth:`~RunnableSequence, e.g., `prompt | llm`` instead.\n",
            "  chain = LLMChain(llm = chat, prompt = chat_prompt)\n",
            "<ipython-input-5-ff160b2447e2>:25: LangChainDeprecationWarning: The method `Chain.run` was deprecated in langchain 0.1.0 and will be removed in 1.0. Use :meth:`~invoke` instead.\n",
            "  response = chain.run(question = query, docs = docs_page_content)\n"
          ]
        },
        {
          "output_type": "stream",
          "name": "stdout",
          "text": [
            "This video appears to be a crash course for interview preparation,\n",
            "specifically covering topics such as constructors, destructors, and\n",
            "try-catch blocks, with the goal of providing viewers with knowledge\n",
            "and examples to help them prepare for interviews.\n"
          ]
        }
      ]
    },
    {
      "cell_type": "code",
      "source": [
        "print(docs)"
      ],
      "metadata": {
        "colab": {
          "base_uri": "https://localhost:8080/"
        },
        "id": "RTfwaV8xukXO",
        "outputId": "14454e8c-3f68-4c7f-ea76-d5bfb835eb8c"
      },
      "execution_count": 7,
      "outputs": [
        {
          "output_type": "stream",
          "name": "stdout",
          "text": [
            "[Document(id='51e4d755-5aa7-4836-9bc6-4dd5266e291e', metadata={'source': 'fNBTtCkgg54'}, page_content=\"this video okay which will totally motivate me whoever is watching it is a very easy every person need to put only one like and you done then after that please comment down all the homeworks whatever I give in the video and what you feel about this crash course whether it is you feel good or not whether you love it or not and what is the quality do let me know I tried my best to create the best hopes crash course for the interview preparation so we'll meet you with a new series or with a new crash course very soon please do the task read it learn it and if you able to crack any interview or you found any interview questions do comment down below we love to read it so we'll meet you with a new video soon\"), Document(id='50c2c2d7-50ac-46b9-a799-a21b3a8d0896', metadata={'source': 'fNBTtCkgg54'}, page_content=\"Robo that we all know or the ra is made by inheriting two of the classes together it is a hybrid intense example and yes after implementing this your Robo will become any of the best robot that you feel good okay so now if you are enjoying till now if you believe yes all the notes are very simple it has real time example Cod snippet which no one can provide you in the free content everyone will give you in the paid content isn't it I was also thinking to provide this in the paid content but I believe it all belongs to you because you should study these things for free that's it for free that's why Prime coding is there on the YouTube channel to support because these types of content takes a lot of efforts guys lot of efforts so do subscribe the channel okay if you have not because it's totally look unfair that you come on to my channel I welcomed you very pleasantly telling you about all the examples properly explaining you the concepts properly so do I do expect a subscribe button okay you it will not cost you anything I can sell this particular thing for 100 or 200 or 300 rupees straight but no I am providing for free you just need to subscribe it it's a humble request like this video okay and comment down the homeworks that I'm giving to you okay why I'm telling you is if this video hits like 200 3 00 400 500 any likes because if you it is easy to hit 500 likes very easy to hit 500 likes because one each one of you if you're watching and if you're understanding this and you want all these free content to coming up because I will going to upload OS content CN content and dbms content SQL content so you want all this for free on the you just a simple Feast like this video and comment down below sir I am watching I am loving it I am getting it your notes quality is totally fantastic please move forward these types of content will motivate me and I will put everything on this channel for free for free for free so please for me do the Subscribe like comment okay so\"), Document(id='9440df3b-54a6-4f7e-8d16-846cf6b5af13', metadata={'source': 'fNBTtCkgg54'}, page_content=\"they know what is it actually but they are not able to frame the right response but after the Scrat for I believe most of the explanations would be fit inside the minds of candidate who are appearing for their upcoming interviews so let's begin with the definition Constructor a special method called when an object is created to initialize it if you initialize object for any respective class this Constructor if it is present in that function or class it will call automatically this is a basic example of uh explanation of Constructor Destructor which is a brother of Constructor a method that is called automatically when an object is destroyed if you call delete the structor has been called and the memory which was allocated for that class has been destroyed or the whole stuff would be destroyed so not the commonly used in Python and Java but essential in C++ this is a quick note from this real time example when you move into a new apartment see how how well we wrote The Real Time example Constructor you set up your furniture and appliances whether that apartment is on rent or is on uh you B bought that particular flat so first thing which is automatically called is can you bring sofas TVs fridge beds teaser and these basic default appliances in my home then only you can be there for a week properly isn't that so all the furniture would be there and the same thing happens when you leave that particular flat or you sold that particular f everything whatever you brought either you will sell it otherwise you will shift it to the new place this is the real time example of Constructor and Destructor isn't it more interesting and easy to remember if you write this on the paper believe me you will not forget because these are the things which you will definitely saw in your real life okay so now let's talk about the vending machine studo code example because this crash for has sudo board for sure but then then only this will be a One-Stop solution for your interview because\"), Document(id='a67d6252-08f1-4d99-94d4-eebc55a5c079', metadata={'source': 'fNBTtCkgg54'}, page_content=\"where user get notified of all the updates whatever going in the content that's just like an in shs okay so let's see the subscriber and a publisher method isn't it which most of the time in iot based systems we usually see and the big data or the sensor based data subscriber who have subscribed to that particular Channel or message like subscribe to Prime coding then you are able to watch this crash course without wasting time so yes update self message which is print the received message message publisher sub. subscribers this is a list which contains all the subscribers who subscribed this particular Channel now subscriber. append subscriber if someone recently subscribed it will be appended into this uh Global Link and notify subscriber in self-certify subscriber. update the message is yes the crash code video has been popped now your task is to like subscribe share with your friends so that your friend can also read about it so publisher subscriber one subscribe publisher. subscribe. subscriber one so you can see publisher. subscribe one so it has been appended into it Now publisher. notify now whole new update is available the subscribers who subscribe to the particular publisher has been notified with a new update available okay so I hope you got the pretty good intuition it's just a simple intuition off just like a YouTube video when you click on uh subscribe button you will get the channel new video on your home screen then only you get to know that and it has been published to all the subscribers so that they can watch it and get the knowledge of it so now try catch blogs which is one of the important topics asked in the companies okay definition which is handles runtime errors gracefully without crashing the program okay because if you put on try catch if anytime your code found some bugs or any error your code won't get stuck it will show okay here it is uh got triggered it is an error but the rest of the task will start working it will not stop so yes\")]\n"
          ]
        }
      ]
    },
    {
      "cell_type": "code",
      "source": [],
      "metadata": {
        "id": "gGn9azgRwSoA"
      },
      "execution_count": null,
      "outputs": []
    }
  ]
}